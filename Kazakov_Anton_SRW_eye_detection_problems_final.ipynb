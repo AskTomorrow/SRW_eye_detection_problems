{
 "cells": [
  {
   "cell_type": "code",
   "execution_count": 66,
   "id": "6c7845f1",
   "metadata": {
    "scrolled": true
   },
   "outputs": [
    {
     "name": "stdout",
     "output_type": "stream",
     "text": [
      "Requirement already satisfied: opencv-python in c:\\users\\malex\\anaconda3\\lib\\site-packages (4.8.1.78)\n",
      "Requirement already satisfied: numpy>=1.21.2 in c:\\users\\malex\\anaconda3\\lib\\site-packages (from opencv-python) (1.24.3)\n",
      "Note: you may need to restart the kernel to use updated packages.\n"
     ]
    }
   ],
   "source": [
    "pip install opencv-python"
   ]
  },
  {
   "cell_type": "code",
   "execution_count": 80,
   "id": "a6d65503",
   "metadata": {},
   "outputs": [],
   "source": [
    "#делаю все необходимые импорты\n",
    "import time as time\n",
    "\n",
    "import numpy as np\n",
    "from scipy.ndimage import gaussian_filter\n",
    "\n",
    "import matplotlib.pyplot as plt\n",
    "\n",
    "import skimage\n",
    "from skimage.data import coins\n",
    "from skimage.transform import rescale\n",
    "\n",
    "from sklearn.feature_extraction.image import grid_to_graph\n",
    "from sklearn.cluster import AgglomerativeClustering\n",
    "from sklearn.utils.fixes import parse_version\n",
    "\n",
    "# these were introduced in skimage-0.14\n",
    "if parse_version(skimage.__version__) >= parse_version('0.14'):\n",
    "    rescale_params = {'anti_aliasing': False, 'multichannel': False}\n",
    "else:\n",
    "    rescale_params = {}\n",
    "    \n",
    "import cv2\n",
    "    \n",
    "import numpy as np\n",
    "import matplotlib.pyplot as plt\n",
    "import scipy.cluster.hierarchy as shc\n",
    "from sklearn.cluster import AgglomerativeClustering\n",
    "\n",
    "from matplotlib import image\n",
    "from matplotlib import pyplot as plt\n",
    "\n",
    "import numpy as np\n",
    "import matplotlib.image as image\n",
    "from scipy.ndimage import gaussian_filter\n",
    "from skimage.transform import resize"
   ]
  },
  {
   "cell_type": "code",
   "execution_count": 81,
   "id": "ccff9804",
   "metadata": {},
   "outputs": [],
   "source": [
    "#функция для загрузки изображения по названию\n",
    "def load_image(name, output=False):\n",
    "    img = cv2.imread(path+'/'+name+'.png')\n",
    "\n",
    "    img = cv2.normalize(img, None, 0, 1.0, cv2.NORM_MINMAX, dtype=cv2.CV_32F)\n",
    "    return img"
   ]
  },
  {
   "cell_type": "code",
   "execution_count": 82,
   "id": "bea44b5a",
   "metadata": {},
   "outputs": [
    {
     "name": "stdout",
     "output_type": "stream",
     "text": [
      "Изображение успешно загружено.\n"
     ]
    }
   ],
   "source": [
    "#проверяю что все загрузилось\n",
    "img = image.imread(\"1_Left_4.png\")\n",
    "\n",
    "if img is None:\n",
    "    print(\"Не удалось загрузить изображение.\")\n",
    "else:\n",
    "    print(\"Изображение успешно загружено.\")"
   ]
  },
  {
   "cell_type": "code",
   "execution_count": 83,
   "id": "daf84b00",
   "metadata": {},
   "outputs": [
    {
     "data": {
      "text/plain": [
       "array([[0.35686275, 0.36078432, 0.3647059 , ..., 0.36078432, 0.35686275,\n",
       "        0.35686275],\n",
       "       [0.35686275, 0.36078432, 0.36862746, ..., 0.36862746, 0.36078432,\n",
       "        0.35686275],\n",
       "       [0.36078432, 0.3647059 , 0.37254903, ..., 0.3764706 , 0.3647059 ,\n",
       "        0.36078432],\n",
       "       ...,\n",
       "       [0.3254902 , 0.3254902 , 0.3254902 , ..., 0.27450982, 0.2784314 ,\n",
       "        0.28235295],\n",
       "       [0.32941177, 0.33333334, 0.33333334, ..., 0.2784314 , 0.28235295,\n",
       "        0.28627452],\n",
       "       [0.33333334, 0.33333334, 0.3372549 , ..., 0.2784314 , 0.28235295,\n",
       "        0.28627452]], dtype=float32)"
      ]
     },
     "execution_count": 83,
     "metadata": {},
     "output_type": "execute_result"
    }
   ],
   "source": [
    "img"
   ]
  },
  {
   "cell_type": "code",
   "execution_count": 84,
   "id": "9a9b402a",
   "metadata": {},
   "outputs": [],
   "source": [
    "#Произвожу сглаживание, меняю размер для цветного изображения, и преобразовываю все в одномерный массив\n",
    "#Изменяю размер до 20% от исходного размера, чтобы ускорить обработку\n",
    "smoothened_eyes = gaussian_filter(img, sigma=2)\n",
    "\n",
    "rescaled_eyes = resize(smoothened_eyes, (int(smoothened_eyes.shape[0] * 0.2), \n",
    "                                         int(smoothened_eyes.shape[1] * 0.2)), \n",
    "                       mode=\"reflect\")\n",
    "\n",
    "X = np.reshape(rescaled_eyes, (-1, 1))"
   ]
  },
  {
   "cell_type": "code",
   "execution_count": 85,
   "id": "39469c96",
   "metadata": {},
   "outputs": [
    {
     "data": {
      "text/plain": [
       "array([[0.37136874],\n",
       "       [0.37724552],\n",
       "       [0.38011992],\n",
       "       ...,\n",
       "       [0.27130565],\n",
       "       [0.27146915],\n",
       "       [0.27533323]], dtype=float32)"
      ]
     },
     "execution_count": 85,
     "metadata": {},
     "output_type": "execute_result"
    }
   ],
   "source": [
    "X"
   ]
  },
  {
   "cell_type": "code",
   "execution_count": 86,
   "id": "691953c9",
   "metadata": {},
   "outputs": [
    {
     "data": {
      "text/plain": [
       "(1600, 1)"
      ]
     },
     "execution_count": 86,
     "metadata": {},
     "output_type": "execute_result"
    }
   ],
   "source": [
    "X.shape"
   ]
  },
  {
   "cell_type": "code",
   "execution_count": 87,
   "id": "8fb80da1",
   "metadata": {},
   "outputs": [],
   "source": [
    "#пиксели соеденины с соседями\n",
    "connectivity = grid_to_graph(*rescaled_eyes.shape)"
   ]
  },
  {
   "cell_type": "code",
   "execution_count": 88,
   "id": "25afc443",
   "metadata": {},
   "outputs": [
    {
     "data": {
      "text/plain": [
       "20"
      ]
     },
     "execution_count": 88,
     "metadata": {},
     "output_type": "execute_result"
    }
   ],
   "source": [
    "len(resized_image)"
   ]
  },
  {
   "cell_type": "code",
   "execution_count": 89,
   "id": "3562b1de",
   "metadata": {},
   "outputs": [],
   "source": [
    "# Пример использования дескриптора HOG\n",
    "from skimage.feature import hog\n",
    "from skimage import exposure\n",
    "\n",
    "# Вычисление HOG-дескриптора\n",
    "fd, hog_image = hog(img, pixels_per_cell=(8, 8), cells_per_block=(2, 2), visualize=True)\n",
    "\n",
    "# Улучшение контраста изображения HOG\n",
    "hog_image_rescaled = exposure.rescale_intensity(hog_image, in_range=(0, 10))\n"
   ]
  },
  {
   "cell_type": "code",
   "execution_count": 90,
   "id": "b9dbda3c",
   "metadata": {},
   "outputs": [
    {
     "data": {
      "text/plain": [
       "array([0.24744216, 0.06778714, 0.02858157, ..., 0.14365205, 0.03008591,\n",
       "       0.        ], dtype=float32)"
      ]
     },
     "execution_count": 90,
     "metadata": {},
     "output_type": "execute_result"
    }
   ],
   "source": [
    "fd"
   ]
  },
  {
   "cell_type": "code",
   "execution_count": 91,
   "id": "db645cae",
   "metadata": {},
   "outputs": [
    {
     "name": "stderr",
     "output_type": "stream",
     "text": [
      "C:\\Users\\malex\\anaconda3\\Lib\\site-packages\\sklearn\\cluster\\_kmeans.py:1412: FutureWarning: The default value of `n_init` will change from 10 to 'auto' in 1.4. Set the value of `n_init` explicitly to suppress the warning\n",
      "  super()._check_params_vs_input(X, default_n_init=10)\n",
      "C:\\Users\\malex\\anaconda3\\Lib\\site-packages\\sklearn\\cluster\\_kmeans.py:1412: FutureWarning: The default value of `n_init` will change from 10 to 'auto' in 1.4. Set the value of `n_init` explicitly to suppress the warning\n",
      "  super()._check_params_vs_input(X, default_n_init=10)\n",
      "C:\\Users\\malex\\anaconda3\\Lib\\site-packages\\sklearn\\cluster\\_kmeans.py:1412: FutureWarning: The default value of `n_init` will change from 10 to 'auto' in 1.4. Set the value of `n_init` explicitly to suppress the warning\n",
      "  super()._check_params_vs_input(X, default_n_init=10)\n",
      "C:\\Users\\malex\\anaconda3\\Lib\\site-packages\\sklearn\\cluster\\_kmeans.py:1412: FutureWarning: The default value of `n_init` will change from 10 to 'auto' in 1.4. Set the value of `n_init` explicitly to suppress the warning\n",
      "  super()._check_params_vs_input(X, default_n_init=10)\n",
      "C:\\Users\\malex\\anaconda3\\Lib\\site-packages\\sklearn\\cluster\\_kmeans.py:1412: FutureWarning: The default value of `n_init` will change from 10 to 'auto' in 1.4. Set the value of `n_init` explicitly to suppress the warning\n",
      "  super()._check_params_vs_input(X, default_n_init=10)\n",
      "C:\\Users\\malex\\anaconda3\\Lib\\site-packages\\sklearn\\cluster\\_kmeans.py:1412: FutureWarning: The default value of `n_init` will change from 10 to 'auto' in 1.4. Set the value of `n_init` explicitly to suppress the warning\n",
      "  super()._check_params_vs_input(X, default_n_init=10)\n",
      "C:\\Users\\malex\\anaconda3\\Lib\\site-packages\\sklearn\\cluster\\_kmeans.py:1412: FutureWarning: The default value of `n_init` will change from 10 to 'auto' in 1.4. Set the value of `n_init` explicitly to suppress the warning\n",
      "  super()._check_params_vs_input(X, default_n_init=10)\n",
      "C:\\Users\\malex\\anaconda3\\Lib\\site-packages\\sklearn\\cluster\\_kmeans.py:1412: FutureWarning: The default value of `n_init` will change from 10 to 'auto' in 1.4. Set the value of `n_init` explicitly to suppress the warning\n",
      "  super()._check_params_vs_input(X, default_n_init=10)\n",
      "C:\\Users\\malex\\anaconda3\\Lib\\site-packages\\sklearn\\cluster\\_kmeans.py:1412: FutureWarning: The default value of `n_init` will change from 10 to 'auto' in 1.4. Set the value of `n_init` explicitly to suppress the warning\n",
      "  super()._check_params_vs_input(X, default_n_init=10)\n",
      "C:\\Users\\malex\\anaconda3\\Lib\\site-packages\\sklearn\\cluster\\_kmeans.py:1412: FutureWarning: The default value of `n_init` will change from 10 to 'auto' in 1.4. Set the value of `n_init` explicitly to suppress the warning\n",
      "  super()._check_params_vs_input(X, default_n_init=10)\n"
     ]
    },
    {
     "data": {
      "image/png": "[encoded data removed]",
      "text/plain": [
       "<Figure size 640x480 with 1 Axes>"
      ]
     },
     "metadata": {},
     "output_type": "display_data"
    }
   ],
   "source": [
    "from sklearn.cluster import KMeans\n",
    "import matplotlib.pyplot as plt\n",
    "\n",
    "fd = fd.reshape(-1, 1)\n",
    "\n",
    "# Список для сохранения значений инерции\n",
    "inertia = []\n",
    "\n",
    "# перебираю разное количество кластеров\n",
    "for i in range(1, 11):  \n",
    "    kmeans = KMeans(n_clusters=i)\n",
    "    kmeans.fit(fd)\n",
    "    inertia.append(kmeans.inertia_)\n",
    "\n",
    "# Построил график зависимости инерции от количества кластеров\n",
    "plt.plot(range(1, 11), inertia, marker='o')\n",
    "plt.xlabel('Количество кластеров')\n",
    "plt.ylabel('Инерция')\n",
    "plt.title('Метод \"локтя\" для определения оптимального количества кластеров')\n",
    "plt.show()\n"
   ]
  },
  {
   "cell_type": "code",
   "execution_count": 92,
   "id": "8ede1265",
   "metadata": {},
   "outputs": [],
   "source": [
    "num_eyes = 2\n",
    "num_clusters = 2"
   ]
  },
  {
   "cell_type": "code",
   "execution_count": 93,
   "id": "24bf33a4",
   "metadata": {},
   "outputs": [
    {
     "name": "stderr",
     "output_type": "stream",
     "text": [
      "C:\\Users\\malex\\anaconda3\\Lib\\site-packages\\sklearn\\cluster\\_kmeans.py:1412: FutureWarning: The default value of `n_init` will change from 10 to 'auto' in 1.4. Set the value of `n_init` explicitly to suppress the warning\n",
      "  super()._check_params_vs_input(X, default_n_init=10)\n"
     ]
    }
   ],
   "source": [
    "from sklearn.cluster import KMeans\n",
    "\n",
    "# Создаю экземпляр K-Means с определенным количеством кластеров (глаз)\n",
    "kmeans = KMeans(n_clusters=num_eyes)\n",
    "\n",
    "# Применяю K-Means к признакам (fd - HOG-дескрипторы)\n",
    "kmeans.fit(fd)\n",
    "\n",
    "# Получаю метки кластеров для каждой точки\n",
    "labels = kmeans.labels_"
   ]
  },
  {
   "cell_type": "code",
   "execution_count": 94,
   "id": "b9cb1ef4",
   "metadata": {},
   "outputs": [
    {
     "name": "stderr",
     "output_type": "stream",
     "text": [
      "C:\\Users\\malex\\anaconda3\\Lib\\site-packages\\sklearn\\cluster\\_kmeans.py:1412: FutureWarning: The default value of `n_init` will change from 10 to 'auto' in 1.4. Set the value of `n_init` explicitly to suppress the warning\n",
      "  super()._check_params_vs_input(X, default_n_init=10)\n"
     ]
    },
    {
     "data": {
      "image/png": "[encoded data removed]",
      "text/plain": [
       "<Figure size 640x480 with 1 Axes>"
      ]
     },
     "metadata": {},
     "output_type": "display_data"
    }
   ],
   "source": [
    "import matplotlib.pyplot as plt\n",
    "from sklearn.cluster import KMeans\n",
    "\n",
    "# Создаю экземпляр K-Means\n",
    "kmeans = KMeans(n_clusters=num_clusters)\n",
    "\n",
    "# Применяю K-Means к данным\n",
    "kmeans.fit(fd.reshape(-1, 1))  # Используйте reshape для преобразования в двумерный массив\n",
    "\n",
    "# Получаю метки кластеров для каждой точки данных\n",
    "labels = kmeans.labels_\n",
    "\n",
    "# Визуализация с использованием гистограммы\n",
    "plt.hist(fd, bins=20, color='lightblue', edgecolor='black', alpha=0.7)\n",
    "plt.title('Гистограмма данных с кластерами')\n",
    "plt.xlabel('Значения')\n",
    "plt.ylabel('Частота')\n",
    "plt.show()\n"
   ]
  },
  {
   "cell_type": "code",
   "execution_count": 95,
   "id": "466a168f",
   "metadata": {},
   "outputs": [],
   "source": [
    "from sklearn.decomposition import PCA\n",
    "\n",
    "# Узнаю количество образцов и признаков в массиве fd\n",
    "n_samples, n_features = fd.shape\n",
    "\n",
    "# Установливаю n_components равным минимуму между n_samples и n_features\n",
    "n_components = min(n_samples, n_features)\n",
    "\n",
    "# Создаю экземпляр PCA\n",
    "pca = PCA(n_components=n_components)\n",
    "\n",
    "# Преобразую извлеченные признаки (fd)\n",
    "data_pca = pca.fit_transform(fd)\n",
    "\n",
    "# Далее выполняю иерархическую кластеризацию на data_pca\n"
   ]
  },
  {
   "cell_type": "code",
   "execution_count": 96,
   "id": "412d68a5",
   "metadata": {},
   "outputs": [
    {
     "data": {
      "text/plain": [
       "array([[0.24744216],\n",
       "       [0.06778714],\n",
       "       [0.02858157],\n",
       "       ...,\n",
       "       [0.14365205],\n",
       "       [0.03008591],\n",
       "       [0.        ]], dtype=float32)"
      ]
     },
     "execution_count": 96,
     "metadata": {},
     "output_type": "execute_result"
    }
   ],
   "source": [
    "fd"
   ]
  },
  {
   "cell_type": "code",
   "execution_count": 97,
   "id": "2c1b01a9",
   "metadata": {},
   "outputs": [
    {
     "data": {
      "text/plain": [
       "20736"
      ]
     },
     "execution_count": 97,
     "metadata": {},
     "output_type": "execute_result"
    }
   ],
   "source": [
    "len(fd)"
   ]
  },
  {
   "cell_type": "code",
   "execution_count": 98,
   "id": "dd7d413e",
   "metadata": {},
   "outputs": [
    {
     "name": "stdout",
     "output_type": "stream",
     "text": [
      "Number of samples: 20736\n",
      "Number of features: 1\n"
     ]
    }
   ],
   "source": [
    "n_samples, n_features = fd.shape\n",
    "print(\"Number of samples:\", n_samples)\n",
    "print(\"Number of features:\", n_features)"
   ]
  },
  {
   "cell_type": "code",
   "execution_count": 99,
   "id": "b442a2ee",
   "metadata": {},
   "outputs": [
    {
     "name": "stdout",
     "output_type": "stream",
     "text": [
      "Compute structured hierarchical clustering...\n",
      "Elapsed time:  0.12914681434631348\n",
      "Number of pixels:  1600\n",
      "Number of clusters:  10\n"
     ]
    }
   ],
   "source": [
    "print(\"Compute structured hierarchical clustering...\")\n",
    "\n",
    "st = time.time()\n",
    "n_clusters = 10\n",
    "\n",
    "ward = AgglomerativeClustering(n_clusters=n_clusters, linkage='ward',\n",
    "                               connectivity=connectivity)\n",
    "\n",
    "# Преобразование X в двумерный массив\n",
    "X_2d = X.reshape(-1, 1)\n",
    "ward.fit(X_2d)\n",
    "label = np.reshape(ward.labels_, rescaled_eyes.shape)\n",
    "\n",
    "print(\"Elapsed time: \", time.time() - st)\n",
    "print(\"Number of pixels: \", label.size)\n",
    "print(\"Number of clusters: \", np.unique(label).size)"
   ]
  },
  {
   "cell_type": "code",
   "execution_count": 100,
   "id": "c9d46ddb",
   "metadata": {},
   "outputs": [
    {
     "name": "stdout",
     "output_type": "stream",
     "text": [
      "Compute structured hierarchical clustering...\n",
      "Elapsed time:  0.10541677474975586\n",
      "Number of pixels:  1600\n",
      "Number of clusters:  10\n"
     ]
    }
   ],
   "source": [
    "print(\"Compute structured hierarchical clustering...\")\n",
    "\n",
    "st = time.time()\n",
    "n_clusters = 10\n",
    "\n",
    "ward = AgglomerativeClustering(n_clusters=n_clusters, linkage='ward',\n",
    "                               connectivity=connectivity)\n",
    "\n",
    "# Преобразование X в двумерный массив\n",
    "X_res = X.reshape(-1, 1)\n",
    "ward.fit(X_res)\n",
    "label = np.reshape(ward.labels_, rescaled_eyes.shape)\n",
    "\n",
    "print(\"Elapsed time: \", time.time() - st)\n",
    "print(\"Number of pixels: \", label.size)\n",
    "print(\"Number of clusters: \", np.unique(label).size)"
   ]
  },
  {
   "cell_type": "code",
   "execution_count": 101,
   "id": "536d0a45",
   "metadata": {},
   "outputs": [],
   "source": [
    "from sklearn.decomposition import PCA\n",
    "\n",
    "# Создаю экземпляр PCA с установкой правильного количества компонент\n",
    "n_components = min(n_samples, n_features) \n",
    "pca = PCA(n_components=n_components)\n",
    "\n",
    "# Применяю PCA к данным\n",
    "reduced_data = pca.fit_transform(fd)"
   ]
  },
  {
   "cell_type": "code",
   "execution_count": 102,
   "id": "a91d61cd",
   "metadata": {},
   "outputs": [
    {
     "data": {
      "image/png": "[encoded data removed]",
      "text/plain": [
       "<Figure size 640x480 with 1 Axes>"
      ]
     },
     "metadata": {},
     "output_type": "display_data"
    }
   ],
   "source": [
    "from scipy.cluster.hierarchy import dendrogram, linkage\n",
    "import matplotlib.pyplot as plt\n",
    "\n",
    "# Выполняю иерархическую кластеризацию на массиве признаков features\n",
    "linked = linkage(reduced_data, method='ward')  # Метод 'ward' можно изменить на другой\n",
    "\n",
    "# Строю дендрограмму для визуализации\n",
    "dendrogram(linked, orientation='top', distance_sort='descending', show_leaf_counts=True)\n",
    "plt.show()"
   ]
  },
  {
   "cell_type": "code",
   "execution_count": 103,
   "id": "c21154d3",
   "metadata": {},
   "outputs": [],
   "source": [
    "from sklearn.cluster import DBSCAN\n",
    "\n",
    "# Создаю экземпляр DBSCAN\n",
    "dbscan = DBSCAN(eps=0.5, min_samples=5)\n",
    "\n",
    "# Применяю DBSCAN к признакам\n",
    "dbscan.fit(fd)\n",
    "\n",
    "# Получаю метки кластеров\n",
    "labels = dbscan.labels_\n"
   ]
  },
  {
   "cell_type": "code",
   "execution_count": 104,
   "id": "1b7cd554",
   "metadata": {},
   "outputs": [
    {
     "data": {
      "text/plain": [
       "(40, 40)"
      ]
     },
     "execution_count": 104,
     "metadata": {},
     "output_type": "execute_result"
    }
   ],
   "source": [
    "label.shape"
   ]
  },
  {
   "cell_type": "code",
   "execution_count": 105,
   "id": "d174164c",
   "metadata": {},
   "outputs": [],
   "source": [
    "label2 = label.reshape(40,40)"
   ]
  },
  {
   "cell_type": "code",
   "execution_count": 106,
   "id": "5726de2c",
   "metadata": {},
   "outputs": [
    {
     "data": {
      "text/plain": [
       "(40, 40)"
      ]
     },
     "execution_count": 106,
     "metadata": {},
     "output_type": "execute_result"
    }
   ],
   "source": [
    "label2.shape"
   ]
  },
  {
   "cell_type": "code",
   "execution_count": 107,
   "id": "78dd435b",
   "metadata": {},
   "outputs": [],
   "source": [
    "#отображение картинки по названию\n",
    "def show_img_by_path(display_list):\n",
    "    plt.figure(figsize=(5, 5))\n",
    "\n",
    "    title = ['Input Image', 'True Mask', 'Predicted Mask']\n",
    "\n",
    "    for i in range(len(display_list)):\n",
    "        img_path = path+'/'+display_list[i]+'.png'\n",
    "        image = plt.imread(img_path)\n",
    "\n",
    "        plt.subplot(1, len(display_list), i+1)\n",
    "        plt.title(title[i])\n",
    "        plt.imshow(image)\n",
    "        plt.axis('off')\n",
    "    plt.show()"
   ]
  },
  {
   "cell_type": "code",
   "execution_count": 108,
   "id": "c4b7498d",
   "metadata": {},
   "outputs": [
    {
     "data": {
      "image/png": "[encoded data removed]",
      "text/plain": [
       "<Figure size 500x500 with 1 Axes>"
      ]
     },
     "metadata": {},
     "output_type": "display_data"
    }
   ],
   "source": [
    "# Отображаю результаты на картинке\n",
    "plt.figure(figsize=(5, 5))\n",
    "plt.imshow(rescaled_eyes, cmap=plt.cm.gray)\n",
    "\n",
    "for l in range(n_clusters):\n",
    "    plt.contour(label2 == l,\n",
    "                colors=[plt.cm.nipy_spectral(l / float(n_clusters)), ])\n",
    "    \n",
    "plt.xticks(())\n",
    "plt.yticks(())\n",
    "plt.show()"
   ]
  },
  {
   "cell_type": "code",
   "execution_count": null,
   "id": "c536fa78",
   "metadata": {},
   "outputs": [],
   "source": []
  },
  {
   "cell_type": "code",
   "execution_count": null,
   "id": "beae5881",
   "metadata": {},
   "outputs": [],
   "source": []
  },
  {
   "cell_type": "code",
   "execution_count": 109,
   "id": "fe5f1cef",
   "metadata": {},
   "outputs": [],
   "source": [
    "# путь\n",
    "path = r'1_Left_4.png'\n",
    "pathm = r'1_Left_4_m.jpg'\n",
    "\n",
    "# Считывание изображения\n",
    "image1 = cv2.imread(path)\n",
    "mask = cv2.imread(pathm)\n",
    "\n",
    "# отображение имени \n",
    "window_name = 'image'"
   ]
  },
  {
   "cell_type": "code",
   "execution_count": 110,
   "id": "03fe6d50",
   "metadata": {},
   "outputs": [
    {
     "name": "stderr",
     "output_type": "stream",
     "text": [
      "C:\\Users\\malex\\anaconda3\\Lib\\site-packages\\sklearn\\cluster\\_kmeans.py:1412: FutureWarning: The default value of `n_init` will change from 10 to 'auto' in 1.4. Set the value of `n_init` explicitly to suppress the warning\n",
      "  super()._check_params_vs_input(X, default_n_init=10)\n"
     ]
    }
   ],
   "source": [
    "# преобразование изображения в массив пикселей\n",
    "img_data = image1.reshape((-1, 3))\n",
    "img_data = np.float32(img_data)\n",
    "\n",
    "# Определение количества кластеров\n",
    "k = 4\n",
    "\n",
    "# Создание объекта KMeans и обучение модели\n",
    "kmeans = KMeans(n_clusters=k)\n",
    "kmeans.fit(image1.reshape(-1, 3))\n",
    "\n",
    "# Получение меток кластеров для каждого пикселя\n",
    "labels = kmeans.labels_\n",
    "\n",
    "# Преобразование массива меток обратно в изображение\n",
    "segmented_image = labels.reshape(image1.shape[:2])"
   ]
  },
  {
   "cell_type": "code",
   "execution_count": 111,
   "id": "83406d05",
   "metadata": {},
   "outputs": [
    {
     "data": {
      "text/plain": [
       "array([[[91, 91, 91],\n",
       "        [92, 92, 92],\n",
       "        [93, 93, 93],\n",
       "        ...,\n",
       "        [92, 92, 92],\n",
       "        [91, 91, 91],\n",
       "        [91, 91, 91]],\n",
       "\n",
       "       [[91, 91, 91],\n",
       "        [92, 92, 92],\n",
       "        [94, 94, 94],\n",
       "        ...,\n",
       "        [94, 94, 94],\n",
       "        [92, 92, 92],\n",
       "        [91, 91, 91]],\n",
       "\n",
       "       [[92, 92, 92],\n",
       "        [93, 93, 93],\n",
       "        [95, 95, 95],\n",
       "        ...,\n",
       "        [96, 96, 96],\n",
       "        [93, 93, 93],\n",
       "        [92, 92, 92]],\n",
       "\n",
       "       ...,\n",
       "\n",
       "       [[83, 83, 83],\n",
       "        [83, 83, 83],\n",
       "        [83, 83, 83],\n",
       "        ...,\n",
       "        [70, 70, 70],\n",
       "        [71, 71, 71],\n",
       "        [72, 72, 72]],\n",
       "\n",
       "       [[84, 84, 84],\n",
       "        [85, 85, 85],\n",
       "        [85, 85, 85],\n",
       "        ...,\n",
       "        [71, 71, 71],\n",
       "        [72, 72, 72],\n",
       "        [73, 73, 73]],\n",
       "\n",
       "       [[85, 85, 85],\n",
       "        [85, 85, 85],\n",
       "        [86, 86, 86],\n",
       "        ...,\n",
       "        [71, 71, 71],\n",
       "        [72, 72, 72],\n",
       "        [73, 73, 73]]], dtype=uint8)"
      ]
     },
     "execution_count": 111,
     "metadata": {},
     "output_type": "execute_result"
    }
   ],
   "source": [
    "image1"
   ]
  },
  {
   "cell_type": "code",
   "execution_count": 112,
   "id": "93923344",
   "metadata": {},
   "outputs": [
    {
     "data": {
      "text/plain": [
       "(40000,)"
      ]
     },
     "execution_count": 112,
     "metadata": {},
     "output_type": "execute_result"
    }
   ],
   "source": [
    "labels.shape"
   ]
  },
  {
   "cell_type": "code",
   "execution_count": 113,
   "id": "c6812880",
   "metadata": {},
   "outputs": [
    {
     "data": {
      "text/plain": [
       "(40000, 1)"
      ]
     },
     "execution_count": 113,
     "metadata": {},
     "output_type": "execute_result"
    }
   ],
   "source": [
    "label2 = labels.reshape(40000, 1)\n",
    "label2.shape"
   ]
  },
  {
   "cell_type": "code",
   "execution_count": 114,
   "id": "66099639",
   "metadata": {},
   "outputs": [
    {
     "data": {
      "image/png": "[encoded data removed]",
      "text/plain": [
       "<Figure size 500x500 with 1 Axes>"
      ]
     },
     "metadata": {},
     "output_type": "display_data"
    }
   ],
   "source": [
    "# отображение результатов на картинке\n",
    "\n",
    "plt.figure(figsize=(5, 5))\n",
    "\n",
    "plt.imshow(segmented_image, cmap=plt.cm.gray)\n",
    "plt.contour(segmented_image, colors='r', linewidths=1)\n",
    "\n",
    "plt.xticks(())\n",
    "plt.yticks(())\n",
    "plt.show()"
   ]
  },
  {
   "cell_type": "code",
   "execution_count": null,
   "id": "4f00df5f",
   "metadata": {},
   "outputs": [],
   "source": []
  }
 ],
 "metadata": {
  "kernelspec": {
   "display_name": "Python 3 (ipykernel)",
   "language": "python",
   "name": "python3"
  },
  "language_info": {
   "codemirror_mode": {
    "name": "ipython",
    "version": 3
   },
   "file_extension": ".py",
   "mimetype": "text/x-python",
   "name": "python",
   "nbconvert_exporter": "python",
   "pygments_lexer": "ipython3",
   "version": "3.11.4"
  }
 },
 "nbformat": 4,
 "nbformat_minor": 5
}
